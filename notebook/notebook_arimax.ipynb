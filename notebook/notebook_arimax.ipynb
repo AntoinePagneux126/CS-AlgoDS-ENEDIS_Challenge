{
 "cells": [
  {
   "cell_type": "code",
   "execution_count": 3,
   "metadata": {},
   "outputs": [],
   "source": [
    "import pandas as pd \n",
    "import numpy as np \n",
    "import matplotlib.pyplot as plt \n",
    "import seaborn as sns\n",
    "import plotly.express as px\n",
    "from sklearn.preprocessing import PowerTransformer\n",
    "from sklearn.preprocessing import QuantileTransformer\n",
    "import scipy.stats as sct\n",
    "from sklearn import preprocessing\n",
    "import math\n",
    "from statsmodels.tsa.arima.model import ARIMA\n",
    "from statsmodels.tsa.statespace.sarimax import SARIMAX\n",
    "from sklearn.model_selection import TimeSeriesSplit\n",
    "import tqdm\n",
    "from sklearn.metrics import mean_squared_error"
   ]
  },
  {
   "cell_type": "code",
   "execution_count": 4,
   "metadata": {},
   "outputs": [],
   "source": [
    "import warnings\n",
    "from statsmodels.tools.sm_exceptions import ConvergenceWarning\n",
    "warnings.simplefilter('ignore', ConvergenceWarning)"
   ]
  },
  {
   "cell_type": "code",
   "execution_count": 5,
   "metadata": {},
   "outputs": [],
   "source": [
    "df = pd.read_csv(\"../dataset/inout.csv\")"
   ]
  },
  {
   "cell_type": "code",
   "execution_count": 6,
   "metadata": {},
   "outputs": [],
   "source": [
    "targets=['RES1_BASE', 'RES11_BASE','PRO1_BASE', 'RES2_HC', 'RES2_HP', 'PRO2_HC', 'PRO2_HP']"
   ]
  },
  {
   "cell_type": "code",
   "execution_count": 7,
   "metadata": {},
   "outputs": [
    {
     "data": {
      "text/plain": [
       "Index(['IDS', 'Horodate_UTC', 'Horodate', 'Mois', 'Injection RTE (W)',\n",
       "       'Refoulement RTE (W)', 'Pertes modélisées (W)',\n",
       "       'Consommations totale (W)',\n",
       "       'Consommation HTA télérelevée à courbe de charge (W)',\n",
       "       'Consommation totale profilée (W)', 'Consommation HTA profilée (W)',\n",
       "       'Consommation PME-PMI profilée (W)',\n",
       "       'Consommation professionnelle profilée (W)',\n",
       "       'Consommation résidentielle profilée (W)',\n",
       "       'Production décentralisée totale (W)',\n",
       "       'Production décentralisée télérelevée à courbe de charge (W)',\n",
       "       'Production décentralisée profilée (W)',\n",
       "       'Production photovoltaïque profilée (W)',\n",
       "       'Production autre profilée (W)',\n",
       "       'Température réalisée lissée (°Celcius)',\n",
       "       'Température normale lissée (°Celcius)',\n",
       "       'Production éolienne totale (W)',\n",
       "       'Production photovoltaïque totale (W)', 'Pseudo rayonnement',\n",
       "       'Consommation HTA totale (W)', 'Soutirage net vers autres GRD (W)',\n",
       "       'RES1_BASE', 'RES11_BASE', 'PRO1_BASE', 'RES2_HC', 'RES2_HP', 'PRO2_HC',\n",
       "       'PRO2_HP'],\n",
       "      dtype='object')"
      ]
     },
     "execution_count": 7,
     "metadata": {},
     "output_type": "execute_result"
    }
   ],
   "source": [
    "columns = df.columns\n",
    "columns"
   ]
  },
  {
   "cell_type": "code",
   "execution_count": 8,
   "metadata": {},
   "outputs": [],
   "source": [
    "df=df[0:65130]"
   ]
  },
  {
   "cell_type": "code",
   "execution_count": 9,
   "metadata": {},
   "outputs": [],
   "source": [
    "df_indexed=df.set_index(\"Horodate_UTC\")\n",
    "df_indexed.index = pd.to_datetime(df.set_index(\"Horodate_UTC\").index)\n",
    "df_indexed[\"Year\"]=df_indexed.index.year\n",
    "df_indexed[\"Month\"]=df_indexed.index.month.map(lambda x : np.cos(x*2*np.pi/12))\n",
    "df_indexed[\"Day\"]=df_indexed.index.day.map(lambda x : np.cos(x*2*np.pi/27))\n",
    "df_indexed[\"week_day\"]=df_indexed.index.weekday.map(lambda x : np.cos(x*2*np.pi/7))"
   ]
  },
  {
   "cell_type": "code",
   "execution_count": 10,
   "metadata": {},
   "outputs": [
    {
     "name": "stdout",
     "output_type": "stream",
     "text": [
      "Index(['RES1_BASE', 'RES11_BASE', 'PRO1_BASE', 'RES2_HC', 'RES2_HP', 'PRO2_HC',\n",
      "       'PRO2_HP'],\n",
      "      dtype='object')\n"
     ]
    }
   ],
   "source": [
    "to_be_predicted = df.columns[-7:]\n",
    "print(to_be_predicted)"
   ]
  },
  {
   "cell_type": "code",
   "execution_count": 11,
   "metadata": {},
   "outputs": [],
   "source": [
    "splitter = TimeSeriesSplit(n_splits=2,test_size=8726)\n",
    "for train_idx, test_idx in splitter.split(df_indexed):\n",
    "    df_train, df_test = df_indexed.iloc[:train_idx[-1]],df_indexed.iloc[train_idx[-1]:]"
   ]
  },
  {
   "cell_type": "code",
   "execution_count": 12,
   "metadata": {},
   "outputs": [],
   "source": [
    "def rmse(y_true, y_pred):\n",
    "    return np.sqrt(mean_squared_error(y_true, y_pred))"
   ]
  },
  {
   "cell_type": "markdown",
   "metadata": {},
   "source": [
    "## Arimax model"
   ]
  },
  {
   "cell_type": "code",
   "execution_count": null,
   "metadata": {},
   "outputs": [],
   "source": []
  },
  {
   "cell_type": "code",
   "execution_count": 155,
   "metadata": {},
   "outputs": [],
   "source": [
    "Xtrain=df_train[to_be_predicted[0]][55000:]\n",
    "Xtest=df_test[to_be_predicted[0]][0:100]\n",
    "Xtrain_exo=df_train[['Température réalisée lissée (°Celcius)', 'Production éolienne totale (W)']][55000:]\n",
    "Xtest_exo= df_test[['Température réalisée lissée (°Celcius)', 'Production éolienne totale (W)']][0:100]"
   ]
  },
  {
   "cell_type": "code",
   "execution_count": 156,
   "metadata": {},
   "outputs": [
    {
     "name": "stdout",
     "output_type": "stream",
     "text": [
      "Horodate_UTC\n",
      "2016-12-31 13:30:00    1.665115\n",
      "2016-12-31 14:00:00    1.618493\n",
      "2016-12-31 14:30:00    1.613714\n",
      "2016-12-31 15:00:00    1.597147\n",
      "2016-12-31 15:30:00    1.722038\n",
      "2016-12-31 16:00:00    1.858824\n",
      "2016-12-31 16:30:00    1.991362\n",
      "2016-12-31 17:00:00    2.053171\n",
      "2016-12-31 17:30:00    2.082694\n",
      "2016-12-31 18:00:00    2.051365\n",
      "2016-12-31 18:30:00    1.989451\n",
      "2016-12-31 19:00:00    1.871143\n",
      "2016-12-31 19:30:00    1.831106\n",
      "2016-12-31 20:00:00    1.700692\n",
      "2016-12-31 20:30:00    1.611590\n",
      "2016-12-31 21:00:00    1.561569\n",
      "2016-12-31 21:30:00    1.482238\n",
      "2016-12-31 22:00:00    1.419049\n",
      "2016-12-31 22:30:00    1.305414\n",
      "2016-12-31 23:00:00    1.232879\n",
      "Name: RES1_BASE, dtype: float64\n"
     ]
    }
   ],
   "source": [
    "print(df_train[to_be_predicted[0]].tail(20))"
   ]
  },
  {
   "cell_type": "code",
   "execution_count": 22,
   "metadata": {},
   "outputs": [],
   "source": [
    "def split_df_to_train(df_train,df_test,k1,data_to_predict,list_exo):\n",
    "    '''\n",
    "    df_train: données d'entraineme\n",
    "    df_test : données à tester \n",
    "    k1: nombre de points avant j pour prédire \n",
    "    data_to_predict : name of the data to predict \n",
    "    list_exo : list of name of the exeogenous parameters \n",
    "    \n",
    "    '''\n",
    "\n",
    "    Xtrain=df_train[data_to_predict].tail(k1)\n",
    "    Xtest=df_test[data_to_predict]\n",
    "    Xtrain_exo=df_train[list_exo].tail(k1)\n",
    "    Xtest_exo= df_test[list_exo]\n",
    "\n",
    "    return Xtrain,Xtest,Xtrain_exo,Xtest_exo\n",
    "\n",
    "    "
   ]
  },
  {
   "cell_type": "code",
   "execution_count": 85,
   "metadata": {},
   "outputs": [
    {
     "name": "stdout",
     "output_type": "stream",
     "text": [
      "Horodate_UTC\n",
      "2016-12-31 23:30:00    1.134963\n",
      "2017-01-01 00:00:00    1.068481\n",
      "Name: RES1_BASE, dtype: float64\n",
      "Index(['Température réalisée lissée (°Celcius)', 'Production éolienne totale (W)'], dtype='object')\n"
     ]
    }
   ],
   "source": [
    "exo=['Température réalisée lissée (°Celcius)', 'Production éolienne totale (W)']\n",
    "Xtrain,Xtest,Xtrain_exo,Xtest_exo=split_df_to_train(df_train=df_train,df_test=df_test,k1=5000,data_to_predict=\"RES1_BASE\",list_exo=exo)\n",
    "print(Xtest.head(2))\n",
    "\n",
    "print(Xtrain_exo.columns)"
   ]
  },
  {
   "cell_type": "code",
   "execution_count": 86,
   "metadata": {},
   "outputs": [],
   "source": [
    "def evaluate_arimax_model(X_train, X_test, arima_order, exogenous_var_train, exogenous_var_test):\n",
    "    k1=len(Xtrain) ## k1 is the number of points we consider for the train ()\n",
    "    mycolonne=exogenous_var_train.columns \n",
    "    history = [x for x in X_train] ## history of Xvalues we use for predictions , we use the last k1 values \n",
    "    exog=np.array([[x for x in exogenous_var_train[elt]] for elt in exogenous_var_train.columns]).T.tolist()\n",
    "    exog_test=np.array([[x for x in exogenous_var_test[elt]] for elt in exogenous_var_test.columns]).T.tolist()\n",
    "    # make predictions\n",
    "    predictions = list()\n",
    "    L_error=list()\n",
    "    for t,_ in enumerate(tqdm.tqdm(np.arange(0,len(Xtest)//96+1))):\n",
    "        if t*96+96<len(Xtest):\n",
    "            model = SARIMAX(endog=history[-k1:], order=arima_order, exog=exog[-k1:],enforce_stationarity=True)\n",
    "            model_fit = model.fit(disp=0)\n",
    "            yhat = model_fit.forecast(steps=96,exog=exog_test[t*96:t*96+96])\n",
    "            predictions.extend(yhat.tolist())\n",
    "            history.extend(Xtest.values[t*96:t*96+96])\n",
    "            exog.extend(exog_test[t*96:t*96+t])\n",
    "            L_error.append(rmse(Xtest.values[t*96:t*96+96],yhat))\n",
    "        else:\n",
    "            return L_error,predictions\n",
    "\n",
    "\n",
    "    #error = rmse(X_test, predictions)\n",
    "\n",
    "    #return error, predictions\n"
   ]
  },
  {
   "cell_type": "code",
   "execution_count": null,
   "metadata": {},
   "outputs": [],
   "source": []
  },
  {
   "cell_type": "code",
   "execution_count": 87,
   "metadata": {},
   "outputs": [
    {
     "name": "stderr",
     "output_type": "stream",
     "text": [
      " 99%|█████████▉| 90/91 [01:27<00:00,  1.02it/s]\n"
     ]
    }
   ],
   "source": [
    "order=(1,1,2)\n",
    "error,predictions=evaluate_arimax_model(Xtrain,Xtest,order,Xtrain_exo,Xtest_exo)"
   ]
  },
  {
   "cell_type": "code",
   "execution_count": null,
   "metadata": {},
   "outputs": [],
   "source": []
  },
  {
   "cell_type": "code",
   "execution_count": 88,
   "metadata": {},
   "outputs": [
    {
     "data": {
      "image/png": "[encoded data removed]",
      "text/plain": [
       "<Figure size 432x288 with 1 Axes>"
      ]
     },
     "metadata": {
      "needs_background": "light"
     },
     "output_type": "display_data"
    }
   ],
   "source": [
    "longueur=len(predictions)\n",
    "#print(longueur)\n",
    "Lx=np.arange(0,longueur)\n",
    "toprint=Xtest[0:8640]\n",
    "#print(toprint)\n",
    "plt.figure()\n",
    "plt.plot(Lx,predictions,label='predictions',color='g')\n",
    "#plt.show()\n",
    "plt.plot(Lx,toprint,label=\"true val\",color='b',alpha=0.6)\n",
    "plt.legend()\n",
    "plt.show()"
   ]
  },
  {
   "cell_type": "code",
   "execution_count": 89,
   "metadata": {},
   "outputs": [
    {
     "name": "stdout",
     "output_type": "stream",
     "text": [
      "RMSE =  0.40093576940342596\n"
     ]
    }
   ],
   "source": [
    "print(\"RMSE = \", np.mean(error))"
   ]
  },
  {
   "cell_type": "code",
   "execution_count": 164,
   "metadata": {},
   "outputs": [],
   "source": [
    "\n",
    "def arimax_grid_search(X_train, X_test, p_values, d_values, q_values, exogenous_var_train, exogenous_var_test):\n",
    "    \n",
    "\n",
    "    best_score, best_cfg = float(\"inf\"), None\n",
    "    for p in p_values:\n",
    "        for d in d_values:\n",
    "            for q in q_values:\n",
    "                order = (p, d, q)\n",
    "                try:\n",
    "                    rmse, _ = evaluate_arimax_model(\n",
    "                        X_train, X_test, order, exogenous_var_train, exogenous_var_test)\n",
    "                    if rmse < best_score:\n",
    "                        best_score, best_cfg = rmse, order\n",
    "                    print(\"ARIMAX(%d,%d,%d) RMSE=%.3f Exogenous =\" %\n",
    "                          (p, d, q, rmse))\n",
    "\n",
    "                except:\n",
    "                    continue\n",
    "\n",
    "    print(\"Best ARIMAX%s MSE=%.3f\" % (best_cfg, best_score))\n",
    "\n",
    "    return best_cfg, best_score"
   ]
  },
  {
   "cell_type": "markdown",
   "metadata": {},
   "source": [
    "## Sarimax model "
   ]
  },
  {
   "cell_type": "code",
   "execution_count": 23,
   "metadata": {},
   "outputs": [],
   "source": [
    "def evaluate_sarimax_model(X_train, X_test, arima_order,seasonal_order ,exogenous_var_train, exogenous_var_test):\n",
    "    k1=len(Xtrain) ## k1 is the number of points we consider for the train ()\n",
    "    mycolonne=exogenous_var_train.columns \n",
    "    history = [x for x in X_train] ## history of Xvalues we use for predictions , we use the last k1 values \n",
    "    exog=np.array([[x for x in exogenous_var_train[elt]] for elt in exogenous_var_train.columns]).T.tolist()\n",
    "    exog_test=np.array([[x for x in exogenous_var_test[elt]] for elt in exogenous_var_test.columns]).T.tolist()\n",
    "    # make predictions\n",
    "    predictions = list()\n",
    "    L_error=list()\n",
    "    for t,_ in enumerate(tqdm.tqdm(np.arange(0,len(Xtest)//96+1))):\n",
    "        if t*96+96<len(Xtest):\n",
    "            model = SARIMAX(endog=history[-k1:], order=arima_order,seasonal_order=seasonal_order, exog=exog[-k1:],enforce_stationarity=True)\n",
    "            model_fit = model.fit(disp=0)\n",
    "            yhat = model_fit.forecast(steps=96,exog=exog_test[t*96:t*96+96])\n",
    "            predictions.extend(yhat.tolist())\n",
    "            history.extend(Xtest.values[t*96:t*96+96])\n",
    "            exog.extend(exog_test[t*96:t*96+t])\n",
    "            L_error.append(rmse(Xtest.values[t*96:t*96+96],yhat))\n",
    "        else:\n",
    "            return L_error,predictions\n"
   ]
  },
  {
   "cell_type": "code",
   "execution_count": 68,
   "metadata": {},
   "outputs": [
    {
     "name": "stdout",
     "output_type": "stream",
     "text": [
      "Horodate_UTC\n",
      "2016-12-31 23:30:00    1.134963\n",
      "2017-01-01 00:00:00    1.068481\n",
      "Name: RES1_BASE, dtype: float64\n",
      "Index(['Température réalisée lissée (°Celcius)', 'Production éolienne totale (W)'], dtype='object')\n"
     ]
    }
   ],
   "source": [
    "exo=['Température réalisée lissée (°Celcius)', 'Production éolienne totale (W)']\n",
    "Xtrain,Xtest,Xtrain_exo,Xtest_exo=split_df_to_train(df_train=df_train,df_test=df_test,k1=3000,data_to_predict=\"RES1_BASE\",list_exo=exo)\n",
    "print(Xtest.head(2))\n",
    "\n",
    "print(Xtrain_exo.columns)"
   ]
  },
  {
   "cell_type": "code",
   "execution_count": 77,
   "metadata": {},
   "outputs": [
    {
     "name": "stderr",
     "output_type": "stream",
     "text": [
      " 99%|█████████▉| 90/91 [01:08<00:00,  1.31it/s]\n"
     ]
    }
   ],
   "source": [
    "s=4\n",
    "order=(1,1,1) # p,d,q pour la trend \n",
    "seasonal_order=(0,0,1)+(s,)   #P,D,Q,s pour la saisonnalité\n",
    "error,predictions=evaluate_sarimax_model(Xtrain,Xtest,order,seasonal_order,Xtrain_exo,Xtest_exo)"
   ]
  },
  {
   "cell_type": "code",
   "execution_count": 78,
   "metadata": {},
   "outputs": [
    {
     "data": {
      "image/png": "[encoded data removed]",
      "text/plain": [
       "<Figure size 432x288 with 1 Axes>"
      ]
     },
     "metadata": {
      "needs_background": "light"
     },
     "output_type": "display_data"
    }
   ],
   "source": [
    "longueur=len(predictions)\n",
    "#print(longueur)\n",
    "Lx=np.arange(0,longueur)\n",
    "toprint=Xtest[0:8640]\n",
    "#print(toprint)\n",
    "plt.figure()\n",
    "plt.plot(Lx,predictions,label='predictions',color='g')\n",
    "#plt.show()\n",
    "plt.plot(Lx,toprint,label=\"true val\",color='b',alpha=0.6)\n",
    "plt.legend()\n",
    "plt.show()"
   ]
  },
  {
   "cell_type": "code",
   "execution_count": 79,
   "metadata": {},
   "outputs": [
    {
     "name": "stdout",
     "output_type": "stream",
     "text": [
      "RMSE =  0.3917510251764217\n"
     ]
    }
   ],
   "source": [
    "print(\"RMSE = \", np.mean(error))"
   ]
  },
  {
   "cell_type": "code",
   "execution_count": 60,
   "metadata": {},
   "outputs": [
    {
     "data": {
      "text/html": [
       "<div>\n",
       "<style scoped>\n",
       "    .dataframe tbody tr th:only-of-type {\n",
       "        vertical-align: middle;\n",
       "    }\n",
       "\n",
       "    .dataframe tbody tr th {\n",
       "        vertical-align: top;\n",
       "    }\n",
       "\n",
       "    .dataframe thead th {\n",
       "        text-align: right;\n",
       "    }\n",
       "</style>\n",
       "<table border=\"1\" class=\"dataframe\">\n",
       "  <thead>\n",
       "    <tr style=\"text-align: right;\">\n",
       "      <th></th>\n",
       "      <th>RES1_BASE</th>\n",
       "    </tr>\n",
       "    <tr>\n",
       "      <th>Horodate_UTC</th>\n",
       "      <th></th>\n",
       "    </tr>\n",
       "  </thead>\n",
       "  <tbody>\n",
       "    <tr>\n",
       "      <th>2016-12-31 23:30:00</th>\n",
       "      <td>1.134963</td>\n",
       "    </tr>\n",
       "    <tr>\n",
       "      <th>2017-01-01 00:00:00</th>\n",
       "      <td>1.068481</td>\n",
       "    </tr>\n",
       "    <tr>\n",
       "      <th>2017-01-01 00:30:00</th>\n",
       "      <td>1.045011</td>\n",
       "    </tr>\n",
       "    <tr>\n",
       "      <th>2017-01-01 01:00:00</th>\n",
       "      <td>1.010284</td>\n",
       "    </tr>\n",
       "    <tr>\n",
       "      <th>2017-01-01 01:30:00</th>\n",
       "      <td>0.977149</td>\n",
       "    </tr>\n",
       "    <tr>\n",
       "      <th>...</th>\n",
       "      <td>...</td>\n",
       "    </tr>\n",
       "    <tr>\n",
       "      <th>2017-01-07 16:30:00</th>\n",
       "      <td>0.818061</td>\n",
       "    </tr>\n",
       "    <tr>\n",
       "      <th>2017-01-07 17:00:00</th>\n",
       "      <td>0.738198</td>\n",
       "    </tr>\n",
       "    <tr>\n",
       "      <th>2017-01-07 17:30:00</th>\n",
       "      <td>0.662796</td>\n",
       "    </tr>\n",
       "    <tr>\n",
       "      <th>2017-01-07 18:00:00</th>\n",
       "      <td>0.609696</td>\n",
       "    </tr>\n",
       "    <tr>\n",
       "      <th>2017-01-07 18:30:00</th>\n",
       "      <td>0.583146</td>\n",
       "    </tr>\n",
       "  </tbody>\n",
       "</table>\n",
       "<p>8727 rows × 1 columns</p>\n",
       "</div>"
      ],
      "text/plain": [
       "                     RES1_BASE\n",
       "Horodate_UTC                  \n",
       "2016-12-31 23:30:00   1.134963\n",
       "2017-01-01 00:00:00   1.068481\n",
       "2017-01-01 00:30:00   1.045011\n",
       "2017-01-01 01:00:00   1.010284\n",
       "2017-01-01 01:30:00   0.977149\n",
       "...                        ...\n",
       "2017-01-07 16:30:00   0.818061\n",
       "2017-01-07 17:00:00   0.738198\n",
       "2017-01-07 17:30:00   0.662796\n",
       "2017-01-07 18:00:00   0.609696\n",
       "2017-01-07 18:30:00   0.583146\n",
       "\n",
       "[8727 rows x 1 columns]"
      ]
     },
     "execution_count": 60,
     "metadata": {},
     "output_type": "execute_result"
    }
   ],
   "source": [
    "Xtest.to_frame()\n"
   ]
  },
  {
   "cell_type": "code",
   "execution_count": 63,
   "metadata": {},
   "outputs": [
    {
     "data": {
      "text/plain": [
       "DatetimeIndex(['2016-12-31 23:30:00', '2017-01-01 00:00:00',\n",
       "               '2017-01-01 00:30:00', '2017-01-01 01:00:00',\n",
       "               '2017-01-01 01:30:00'],\n",
       "              dtype='datetime64[ns]', name='Horodate_UTC', freq=None)"
      ]
     },
     "execution_count": 63,
     "metadata": {},
     "output_type": "execute_result"
    }
   ],
   "source": [
    "data=Xtest.head(5)\n",
    "data.asfreq(freq='10S')\n",
    "data.index"
   ]
  },
  {
   "cell_type": "code",
   "execution_count": 64,
   "metadata": {},
   "outputs": [
    {
     "data": {
      "text/plain": [
       "Horodate_UTC\n",
       "2016-12-31 23:30:00    1.134963\n",
       "2017-01-01 00:00:00    1.068481\n",
       "2017-01-01 00:30:00    1.045011\n",
       "2017-01-01 01:00:00    1.010284\n",
       "2017-01-01 01:30:00    0.977149\n",
       "                         ...   \n",
       "2017-01-07 16:30:00    0.818061\n",
       "2017-01-07 17:00:00    0.738198\n",
       "2017-01-07 17:30:00    0.662796\n",
       "2017-01-07 18:00:00    0.609696\n",
       "2017-01-07 18:30:00    0.583146\n",
       "Freq: 30T, Name: RES1_BASE, Length: 327, dtype: float64"
      ]
     },
     "execution_count": 64,
     "metadata": {},
     "output_type": "execute_result"
    }
   ],
   "source": [
    "Xtest=Xtest.asfreq(freq=\"30min\")\n",
    "Xtest"
   ]
  },
  {
   "cell_type": "code",
   "execution_count": 67,
   "metadata": {},
   "outputs": [
    {
     "name": "stdout",
     "output_type": "stream",
     "text": [
      "1. ADF :  -4.841700154753768\n",
      "2. P-Value :  4.522945420455233e-05\n",
      "3. Num Of Lags :  2\n",
      "4. Num Of Observations Used For ADF Regression and Critical Values Calculation : 324\n",
      "5. Critical Values :\n",
      "\t 1% :  -3.450695263332383\n",
      "\t 5% :  -2.87050218926466\n",
      "\t 10% :  -2.5715449066453284\n"
     ]
    }
   ],
   "source": [
    "from statsmodels.tsa.stattools import adfuller\n",
    "dftest = adfuller(Xtest, autolag = 'AIC')\n",
    "print(\"1. ADF : \",dftest[0])\n",
    "print(\"2. P-Value : \", dftest[1])\n",
    "print(\"3. Num Of Lags : \", dftest[2])\n",
    "print(\"4. Num Of Observations Used For ADF Regression and Critical Values Calculation :\", dftest[3])\n",
    "print(\"5. Critical Values :\")\n",
    "for key, val in dftest[4].items():\n",
    "    print(\"\\t\",key, \": \", val)"
   ]
  },
  {
   "cell_type": "code",
   "execution_count": 66,
   "metadata": {},
   "outputs": [
    {
     "ename": "ValueError",
     "evalue": "freq T not understood. Please report if you think this is in error.",
     "output_type": "error",
     "traceback": [
      "\u001b[0;31m---------------------------------------------------------------------------\u001b[0m",
      "\u001b[0;31mValueError\u001b[0m                                Traceback (most recent call last)",
      "\u001b[0;32m<ipython-input-66-8547fd2e6b8d>\u001b[0m in \u001b[0;36m<module>\u001b[0;34m\u001b[0m\n\u001b[1;32m      1\u001b[0m \u001b[0;32mfrom\u001b[0m \u001b[0mstatsmodels\u001b[0m\u001b[0;34m.\u001b[0m\u001b[0mtsa\u001b[0m\u001b[0;34m.\u001b[0m\u001b[0mseasonal\u001b[0m \u001b[0;32mimport\u001b[0m \u001b[0mseasonal_decompose\u001b[0m\u001b[0;34m\u001b[0m\u001b[0;34m\u001b[0m\u001b[0m\n\u001b[0;32m----> 2\u001b[0;31m \u001b[0mdecompose_data\u001b[0m \u001b[0;34m=\u001b[0m \u001b[0mseasonal_decompose\u001b[0m\u001b[0;34m(\u001b[0m\u001b[0mXtest\u001b[0m\u001b[0;34m,\u001b[0m \u001b[0mmodel\u001b[0m\u001b[0;34m=\u001b[0m\u001b[0;34m\"additive\"\u001b[0m\u001b[0;34m)\u001b[0m\u001b[0;34m\u001b[0m\u001b[0;34m\u001b[0m\u001b[0m\n\u001b[0m\u001b[1;32m      3\u001b[0m \u001b[0mdecompose_data\u001b[0m\u001b[0;34m.\u001b[0m\u001b[0mplot\u001b[0m\u001b[0;34m(\u001b[0m\u001b[0;34m)\u001b[0m\u001b[0;34m;\u001b[0m\u001b[0;34m\u001b[0m\u001b[0;34m\u001b[0m\u001b[0m\n",
      "\u001b[0;32m/opt/anaconda3/envs/mds_env/lib/python3.7/site-packages/pandas/util/_decorators.py\u001b[0m in \u001b[0;36mwrapper\u001b[0;34m(*args, **kwargs)\u001b[0m\n\u001b[1;32m    197\u001b[0m                 \u001b[0;32melse\u001b[0m\u001b[0;34m:\u001b[0m\u001b[0;34m\u001b[0m\u001b[0;34m\u001b[0m\u001b[0m\n\u001b[1;32m    198\u001b[0m                     \u001b[0mkwargs\u001b[0m\u001b[0;34m[\u001b[0m\u001b[0mnew_arg_name\u001b[0m\u001b[0;34m]\u001b[0m \u001b[0;34m=\u001b[0m \u001b[0mnew_arg_value\u001b[0m\u001b[0;34m\u001b[0m\u001b[0;34m\u001b[0m\u001b[0m\n\u001b[0;32m--> 199\u001b[0;31m             \u001b[0;32mreturn\u001b[0m \u001b[0mfunc\u001b[0m\u001b[0;34m(\u001b[0m\u001b[0;34m*\u001b[0m\u001b[0margs\u001b[0m\u001b[0;34m,\u001b[0m \u001b[0;34m**\u001b[0m\u001b[0mkwargs\u001b[0m\u001b[0;34m)\u001b[0m\u001b[0;34m\u001b[0m\u001b[0;34m\u001b[0m\u001b[0m\n\u001b[0m\u001b[1;32m    200\u001b[0m \u001b[0;34m\u001b[0m\u001b[0m\n\u001b[1;32m    201\u001b[0m         \u001b[0;32mreturn\u001b[0m \u001b[0mcast\u001b[0m\u001b[0;34m(\u001b[0m\u001b[0mF\u001b[0m\u001b[0;34m,\u001b[0m \u001b[0mwrapper\u001b[0m\u001b[0;34m)\u001b[0m\u001b[0;34m\u001b[0m\u001b[0;34m\u001b[0m\u001b[0m\n",
      "\u001b[0;32m/opt/anaconda3/envs/mds_env/lib/python3.7/site-packages/statsmodels/tsa/seasonal.py\u001b[0m in \u001b[0;36mseasonal_decompose\u001b[0;34m(x, model, filt, period, two_sided, extrapolate_trend)\u001b[0m\n\u001b[1;32m    138\u001b[0m     \u001b[0;32mif\u001b[0m \u001b[0mperiod\u001b[0m \u001b[0;32mis\u001b[0m \u001b[0;32mNone\u001b[0m\u001b[0;34m:\u001b[0m\u001b[0;34m\u001b[0m\u001b[0;34m\u001b[0m\u001b[0m\n\u001b[1;32m    139\u001b[0m         \u001b[0;32mif\u001b[0m \u001b[0mpfreq\u001b[0m \u001b[0;32mis\u001b[0m \u001b[0;32mnot\u001b[0m \u001b[0;32mNone\u001b[0m\u001b[0;34m:\u001b[0m\u001b[0;34m\u001b[0m\u001b[0;34m\u001b[0m\u001b[0m\n\u001b[0;32m--> 140\u001b[0;31m             \u001b[0mpfreq\u001b[0m \u001b[0;34m=\u001b[0m \u001b[0mfreq_to_period\u001b[0m\u001b[0;34m(\u001b[0m\u001b[0mpfreq\u001b[0m\u001b[0;34m)\u001b[0m\u001b[0;34m\u001b[0m\u001b[0;34m\u001b[0m\u001b[0m\n\u001b[0m\u001b[1;32m    141\u001b[0m             \u001b[0mperiod\u001b[0m \u001b[0;34m=\u001b[0m \u001b[0mpfreq\u001b[0m\u001b[0;34m\u001b[0m\u001b[0;34m\u001b[0m\u001b[0m\n\u001b[1;32m    142\u001b[0m         \u001b[0;32melse\u001b[0m\u001b[0;34m:\u001b[0m\u001b[0;34m\u001b[0m\u001b[0;34m\u001b[0m\u001b[0m\n",
      "\u001b[0;32m/opt/anaconda3/envs/mds_env/lib/python3.7/site-packages/statsmodels/tsa/tsatools.py\u001b[0m in \u001b[0;36mfreq_to_period\u001b[0;34m(freq)\u001b[0m\n\u001b[1;32m    828\u001b[0m     \u001b[0;32melse\u001b[0m\u001b[0;34m:\u001b[0m  \u001b[0;31m# pragma : no cover\u001b[0m\u001b[0;34m\u001b[0m\u001b[0;34m\u001b[0m\u001b[0m\n\u001b[1;32m    829\u001b[0m         raise ValueError(\"freq {} not understood. Please report if you \"\n\u001b[0;32m--> 830\u001b[0;31m                          \"think this is in error.\".format(freq))\n\u001b[0m\u001b[1;32m    831\u001b[0m \u001b[0;34m\u001b[0m\u001b[0m\n\u001b[1;32m    832\u001b[0m \u001b[0;34m\u001b[0m\u001b[0m\n",
      "\u001b[0;31mValueError\u001b[0m: freq T not understood. Please report if you think this is in error."
     ]
    }
   ],
   "source": [
    "from statsmodels.tsa.seasonal import seasonal_decompose\n",
    "decompose_data = seasonal_decompose(Xtest, model=\"additive\")\n",
    "decompose_data.plot();"
   ]
  }
 ],
 "metadata": {
  "interpreter": {
   "hash": "ea4b82c1b42817c13206f5050189f2e184ec7d53c9985bd76d66845343fa3dd7"
  },
  "kernelspec": {
   "display_name": "Python 3.7.10 ('mds_env')",
   "language": "python",
   "name": "python3"
  },
  "language_info": {
   "codemirror_mode": {
    "name": "ipython",
    "version": 3
   },
   "file_extension": ".py",
   "mimetype": "text/x-python",
   "name": "python",
   "nbconvert_exporter": "python",
   "pygments_lexer": "ipython3",
   "version": "3.7.10"
  },
  "orig_nbformat": 4
 },
 "nbformat": 4,
 "nbformat_minor": 2
}
